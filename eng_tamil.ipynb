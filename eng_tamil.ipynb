{
  "nbformat": 4,
  "nbformat_minor": 0,
  "metadata": {
    "colab": {
      "name": "eng-tamil.ipynb",
      "provenance": [],
      "authorship_tag": "ABX9TyNb1ALcup8TkXZIEGHRWsr/",
      "include_colab_link": true
    },
    "kernelspec": {
      "name": "python3",
      "display_name": "Python 3"
    },
    "accelerator": "GPU"
  },
  "cells": [
    {
      "cell_type": "markdown",
      "metadata": {
        "id": "view-in-github",
        "colab_type": "text"
      },
      "source": [
        "<a href=\"https://colab.research.google.com/github/KiranBharadwaj/eng-tamil/blob/main/eng_tamil.ipynb\" target=\"_parent\"><img src=\"https://colab.research.google.com/assets/colab-badge.svg\" alt=\"Open In Colab\"/></a>"
      ]
    },
    {
      "cell_type": "code",
      "metadata": {
        "id": "PmqUzVxbEtiY",
        "outputId": "e7b759a7-8e41-4a9b-d32d-2efec39e8e2d",
        "colab": {
          "base_uri": "https://localhost:8080/",
          "height": 231
        }
      },
      "source": [
        "import subprocess\n",
        "import argparse\n",
        "import os\n",
        "\n",
        "import pandas as pd\n",
        "\n",
        "# parser = argparse.ArgumentParser()\n",
        "# parser.add_argument('-s', help='ISO 639-3 code for a source language')\n",
        "# parser.add_argument('-t', help='ISO 639-3 code for a target language')\n",
        "# parser.add_argument('-data_dir', default='./data', help='Data directory')\n",
        "\n",
        "\n",
        "if __name__ == '__main__':\n",
        "    # args = parser.parse_args()\n",
        "    source_lang = 'eng'\n",
        "    target_lang = 'tam'\n",
        "    # data_dir = args.data_dir\n",
        "\n",
        "    # download if sentences are not here\n",
        "    sentences_path = os.path.join(data_dir, 'sentences.csv')\n",
        "    if not os.path.isfile(sentences_path):\n",
        "        if not os.path.isfile(os.path.join(data_dir, 'sentences.tar.bz2')):\n",
        "            subprocess.run(\n",
        "                \"wget https://downloads.tatoeba.org/exports/sentences.tar.bz2 -P \" + data_dir,\n",
        "                shell=True)\n",
        "\n",
        "        subprocess.run(\n",
        "            \"tar xvjC {0} -f {0}/sentences.tar.bz2\".format(data_dir), shell=True)\n",
        "\n",
        "    # download if links are not here\n",
        "    links_path = os.path.join(data_dir, 'links.csv')\n",
        "    if not os.path.isfile(links_path):\n",
        "        if not os.path.isfile(os.path.join(data_dir, 'links.tar.bz2')):\n",
        "            subprocess.run(\n",
        "                \"wget https://downloads.tatoeba.org/exports/links.tar.bz2 -P \" + data_dir,\n",
        "                shell=True)\n",
        "\n",
        "        subprocess.run(\"tar xvjC {0} -f {0}/links.tar.bz2\".format(data_dir), shell=True)\n",
        "\n",
        "    # read all data\n",
        "    sentences = pd.read_csv(sentences_path, names=['id', 'lang', 'text'], header=None, delimiter='\\t')\n",
        "    links = pd.read_csv(links_path, names=['sent_id', 'tran_id'], header=None, delimiter='\\t')\n",
        "\n",
        "    # extract source - target connected\n",
        "    source_sentences = sentences[sentences.lang == source_lang]\n",
        "    source_sentences = source_sentences.merge(links, left_on='id', right_on='sent_id')\n",
        "    target_sentences = sentences[sentences.lang == target_lang]\n",
        "\n",
        "    bilang_sentences = source_sentences.merge(target_sentences, left_on='tran_id',\n",
        "                                              right_on='id',\n",
        "                                              suffixes=[source_lang, target_lang])\n",
        "    bilang_sentences = bilang_sentences[['text' + source_lang, 'text' + target_lang]]\n",
        "\n",
        "    # save results\n",
        "    file_name = os.path.join(data_dir, '{source}-{target}.csv'.format(source=source_lang, target=target_lang))\n",
        "    bilang_sentences.to_csv(file_name, index=False, sep='\\t')"
      ],
      "execution_count": 3,
      "outputs": [
        {
          "output_type": "error",
          "ename": "NameError",
          "evalue": "ignored",
          "traceback": [
            "\u001b[0;31m---------------------------------------------------------------------------\u001b[0m",
            "\u001b[0;31mNameError\u001b[0m                                 Traceback (most recent call last)",
            "\u001b[0;32m<ipython-input-3-46087c3aa781>\u001b[0m in \u001b[0;36m<module>\u001b[0;34m()\u001b[0m\n\u001b[1;32m     15\u001b[0m     \u001b[0msource_lang\u001b[0m \u001b[0;34m=\u001b[0m \u001b[0;34m'eng'\u001b[0m\u001b[0;34m\u001b[0m\u001b[0;34m\u001b[0m\u001b[0m\n\u001b[1;32m     16\u001b[0m     \u001b[0mtarget_lang\u001b[0m \u001b[0;34m=\u001b[0m \u001b[0;34m'tam'\u001b[0m\u001b[0;34m\u001b[0m\u001b[0;34m\u001b[0m\u001b[0m\n\u001b[0;32m---> 17\u001b[0;31m     \u001b[0mdata_dir\u001b[0m \u001b[0;34m=\u001b[0m \u001b[0margs\u001b[0m\u001b[0;34m.\u001b[0m\u001b[0mdata_dir\u001b[0m\u001b[0;34m\u001b[0m\u001b[0;34m\u001b[0m\u001b[0m\n\u001b[0m\u001b[1;32m     18\u001b[0m \u001b[0;34m\u001b[0m\u001b[0m\n\u001b[1;32m     19\u001b[0m     \u001b[0;31m# download if sentences are not here\u001b[0m\u001b[0;34m\u001b[0m\u001b[0;34m\u001b[0m\u001b[0;34m\u001b[0m\u001b[0m\n",
            "\u001b[0;31mNameError\u001b[0m: name 'args' is not defined"
          ]
        }
      ]
    },
    {
      "cell_type": "code",
      "metadata": {
        "id": "V3eoCiISHOYk"
      },
      "source": [
        ""
      ],
      "execution_count": null,
      "outputs": []
    }
  ]
}